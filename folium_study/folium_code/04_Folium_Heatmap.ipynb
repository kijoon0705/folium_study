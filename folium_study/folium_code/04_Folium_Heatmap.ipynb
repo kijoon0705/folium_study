{
 "cells": [
  {
   "cell_type": "markdown",
   "metadata": {},
   "source": [
    "# Folium의 Heatmap  \n",
    "---  \n",
    "\n",
    "### 개요  \n",
    "- folium 모듈을 사용하요 만든 HeatMap\n",
    "\n",
    "### 목차  \n",
    "1. 모듈 로드\n",
    "2. HeatMap\n"
   ]
  },
  {
   "cell_type": "markdown",
   "metadata": {},
   "source": [
    "---\n",
    "## 1. 모듈 로드"
   ]
  },
  {
   "cell_type": "code",
   "execution_count": 64,
   "metadata": {},
   "outputs": [],
   "source": [
    "import pandas as pd\n",
    "import numpy as np\n",
    "import json\n",
    "\n",
    "from pprint import pprint as pp\n",
    "\n",
    "import folium \n",
    "from folium import plugins\n",
    "from folium.plugins import HeatMap"
   ]
  },
  {
   "cell_type": "markdown",
   "metadata": {},
   "source": [
    "---\n",
    "## 5. HeatMap"
   ]
  },
  {
   "cell_type": "code",
   "execution_count": 72,
   "metadata": {},
   "outputs": [],
   "source": [
    "df_PatientInfo = pd.read_csv('/home/seong/workspace/folium_study/data/PatientInfo.csv')\n",
    "df_region = pd.read_csv('/home/seong/workspace/folium_study/data/Region.csv')"
   ]
  },
  {
   "cell_type": "code",
   "execution_count": 73,
   "metadata": {},
   "outputs": [],
   "source": [
    "index_null= df_PatientInfo.contact_number[df_PatientInfo.contact_number == \"-\"].index\n",
    "df_patient_nn= df_PatientInfo.drop(index_null)\n",
    "# df_patient_nn\n",
    "\n",
    "df_patient_nn[\"contact_number\"]= pd.to_numeric(df_patient_nn.contact_number)\n",
    "del df_patient_nn[\"contact_number\"]\n",
    "# df_patient_nn.info()\n",
    "\n",
    "df_marge= pd.merge(df_patient_nn, df_region, on= \"city\")\n",
    "# pp(type(df_marge))\n",
    "# df_marge\n",
    "\n",
    "df_group= df_marge.groupby(\"city\").count()\n",
    "# pp(type(df_group))\n",
    "df_group= {\"patient_id\": df_group.patient_id}\n",
    "df_group= pd.DataFrame(df_group)\n",
    "\n",
    "# df_group\n",
    "\n",
    "df_city= df_marge\n",
    "df_city= {\"city\": df_city.city, \"latitude\": df_city.latitude, \"longitude\": df_city.longitude}\n",
    "df_city= pd.DataFrame(df_city)\n",
    "df_city_nn= df_city.drop_duplicates(\"city\")\n",
    "\n",
    "# df_city_nn\n",
    "\n",
    "df_city_nn= pd.merge(df_city_nn, df_group, on= \"city\")\n",
    "# df_city_nn\n",
    "\n",
    "df_city_nn= df_city_nn.reset_index().sort_values(\"city\")\n",
    "# df_city_nn\n",
    "\n",
    "df_city_xy= {\"latitude\": list(df_city_nn.latitude), \"longitude\": list(df_city_nn.longitude), \"patient_id\": list(df_city_nn.patient_id)}\n",
    "df_city_xy= pd.DataFrame(df_city_xy)\n",
    "df_city_xy\n",
    "\n",
    "df_patient = pd.merge(df_PatientInfo[['patient_id','province','city']],\n",
    "                     df_region[['province','city','latitude','longitude']], \n",
    "                     how = 'left', \n",
    "                     on = ['province','city'])\n",
    "regional_count = df_patient[['latitude','longitude']].dropna()"
   ]
  },
  {
   "cell_type": "code",
   "execution_count": 74,
   "metadata": {},
   "outputs": [
    {
     "data": {
      "text/html": [
       "<div style=\"width:100%;\"><div style=\"position:relative;width:100%;height:0;padding-bottom:60%;\"><span style=\"color:#565656\">Make this Notebook Trusted to load map: File -> Trust Notebook</span><iframe src=\"about:blank\" style=\"position:absolute;width:100%;height:100%;left:0;top:0;border:none !important;\" data-html=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 onload=\"this.contentDocument.open();this.contentDocument.write(atob(this.getAttribute('data-html')));this.contentDocument.close();\" allowfullscreen webkitallowfullscreen mozallowfullscreen></iframe></div></div>"
      ],
      "text/plain": [
       "<folium.folium.Map at 0x7f8b78593860>"
      ]
     },
     "execution_count": 74,
     "metadata": {},
     "output_type": "execute_result"
    }
   ],
   "source": [
    "#코로나 데이터 사용\n",
    "\n",
    "m = folium.Map(location= [36, 128], zoom_start= 7, tiles='Openstreetmap')\n",
    "\n",
    "folium.plugins.HeatMap(df_city_xy, radius= 30).add_to(m)\n",
    "\n",
    "m.save('heatmap.html')\n",
    "\n",
    "m"
   ]
  }
 ],
 "metadata": {
  "kernelspec": {
   "display_name": "Python 3",
   "language": "python",
   "name": "python3"
  },
  "language_info": {
   "codemirror_mode": {
    "name": "ipython",
    "version": 3
   },
   "file_extension": ".py",
   "mimetype": "text/x-python",
   "name": "python",
   "nbconvert_exporter": "python",
   "pygments_lexer": "ipython3",
   "version": "3.6.9"
  }
 },
 "nbformat": 4,
 "nbformat_minor": 2
}
